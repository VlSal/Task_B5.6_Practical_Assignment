{
 "cells": [
  {
   "cell_type": "code",
   "execution_count": 9,
   "id": "ff7ab154",
   "metadata": {},
   "outputs": [],
   "source": [
    "def print_board(board):\n",
    "    print(\"   0 1 2\")\n",
    "    for i in range(3):\n",
    "        print(f\"{i} \", end=\" \")\n",
    "        for j in range(3):\n",
    "            print(board[i][j], end=\" \")\n",
    "        print()"
   ]
  },
  {
   "cell_type": "code",
   "execution_count": 10,
   "id": "a8abe8bf",
   "metadata": {},
   "outputs": [],
   "source": [
    "def check_winner(board, player):\n",
    "    for i in range(3):\n",
    "        if all(board[i][j] == player for j in range(3)) or all(board[j][i] == player for j in range(3)):\n",
    "            return True\n",
    "    if all(board[i][i] == player for i in range(3)) or all(board[i][2 - i] == player for i in range(3)):\n",
    "        return True\n",
    "    return False"
   ]
  },
  {
   "cell_type": "code",
   "execution_count": 11,
   "id": "431cbd1f",
   "metadata": {},
   "outputs": [],
   "source": [
    "def is_board_full(board):\n",
    "    return all(all(cell != \" \" for cell in row) for row in board)"
   ]
  },
  {
   "cell_type": "code",
   "execution_count": 12,
   "id": "b07a5f96",
   "metadata": {},
   "outputs": [],
   "source": [
    "def get_player_input(current_player):\n",
    "    try:\n",
    "        row = int(input(f\"Игрок {current_player}, введите номер строки (0, 1, 2): \"))\n",
    "        col = int(input(f\"Игрок {current_player}, введите номер столбца (0, 1, 2): \"))\n",
    "        return row, col\n",
    "    except ValueError:\n",
    "        print(\"Некорректный ход. Введите целое число от 0 до 2.\")\n",
    "        return get_player_input(current_player)"
   ]
  },
  {
   "cell_type": "code",
   "execution_count": 13,
   "id": "e4831a21",
   "metadata": {},
   "outputs": [],
   "source": [
    "def display_instructions():\n",
    "    print(\"Добро пожаловать в игру 'Крестики-нолики'!\")\n",
    "    print(\"Ваша задача - выиграть, размещая свои символы (X или O) на игровом поле 3x3.\")\n",
    "    print(\"Когда игровое поле заполнится, игра завершится. Победитель - тот, кто первым выстроит три своих символа в ряд.\")\n",
    "    print(\"Каждая ячейка на игровом поле обозначается номерами строки и столбца (0, 1, 2).\")\n",
    "    print(\"Приготовьтесь к игре!\")"
   ]
  },
  {
   "cell_type": "code",
   "execution_count": 14,
   "id": "efda3a36",
   "metadata": {},
   "outputs": [
    {
     "name": "stdout",
     "output_type": "stream",
     "text": [
      "Добро пожаловать в игру 'Крестики-нолики'!\n",
      "Ваша задача - выиграть, размещая свои символы (X или O) на игровом поле 3x3.\n",
      "Когда игровое поле заполнится, игра завершится. Победитель - тот, кто первым выстроит три своих символа в ряд.\n",
      "Каждая ячейка на игровом поле обозначается номерами строки и столбца (0, 1, 2).\n",
      "Приготовьтесь к игре!\n",
      "   0 1 2\n",
      "0        \n",
      "1        \n",
      "2        \n",
      "Игрок X, введите номер строки (0, 1, 2): 0\n",
      "Игрок X, введите номер столбца (0, 1, 2): 0\n",
      "   0 1 2\n",
      "0  X     \n",
      "1        \n",
      "2        \n",
      "Игрок O, введите номер строки (0, 1, 2): 1\n",
      "Игрок O, введите номер столбца (0, 1, 2): 1\n",
      "   0 1 2\n",
      "0  X     \n",
      "1    O   \n",
      "2        \n",
      "Игрок X, введите номер строки (0, 1, 2): 2\n",
      "Игрок X, введите номер столбца (0, 1, 2): 2\n",
      "   0 1 2\n",
      "0  X     \n",
      "1    O   \n",
      "2      X \n",
      "Игрок O, введите номер строки (0, 1, 2): 10\n",
      "Игрок O, введите номер столбца (0, 1, 2): 1\n",
      "Некорректный ход. Введите значения от 0 до 2, и ячейка не должна быть занята.\n",
      "   0 1 2\n",
      "0  X     \n",
      "1    O   \n",
      "2      X \n",
      "Игрок O, введите номер строки (0, 1, 2): 1\n",
      "Игрок O, введите номер столбца (0, 1, 2): 0\n",
      "   0 1 2\n",
      "0  X     \n",
      "1  O O   \n",
      "2      X \n",
      "Игрок X, введите номер строки (0, 1, 2): 1\n",
      "Игрок X, введите номер столбца (0, 1, 2): 1\n",
      "Некорректный ход. Введите значения от 0 до 2, и ячейка не должна быть занята.\n",
      "   0 1 2\n",
      "0  X     \n",
      "1  O O   \n",
      "2      X \n",
      "Игрок X, введите номер строки (0, 1, 2): 1\n",
      "Игрок X, введите номер столбца (0, 1, 2): 2\n",
      "   0 1 2\n",
      "0  X     \n",
      "1  O O X \n",
      "2      X \n",
      "Игрок O, введите номер строки (0, 1, 2): 0\n",
      "Игрок O, введите номер столбца (0, 1, 2): 2\n",
      "   0 1 2\n",
      "0  X   O \n",
      "1  O O X \n",
      "2      X \n",
      "Игрок X, введите номер строки (0, 1, 2): 0\n",
      "Игрок X, введите номер столбца (0, 1, 2): 1\n",
      "   0 1 2\n",
      "0  X X O \n",
      "1  O O X \n",
      "2      X \n",
      "Игрок O, введите номер строки (0, 1, 2): 2\n",
      "Игрок O, введите номер столбца (0, 1, 2): 0\n",
      "   0 1 2\n",
      "0  X X O \n",
      "1  O O X \n",
      "2  O   X \n",
      "Игрок O победил!\n"
     ]
    }
   ],
   "source": [
    "def tic_tac_toe():\n",
    "    display_instructions()\n",
    "\n",
    "    board = [[\" \" for _ in range(3)] for _ in range(3)]\n",
    "    current_player = \"X\"\n",
    "\n",
    "    while True:\n",
    "        print_board(board)\n",
    "\n",
    "        row, col = get_player_input(current_player)\n",
    "\n",
    "        if 0 <= row < 3 and 0 <= col < 3 and board[row][col] == \" \":\n",
    "            board[row][col] = current_player\n",
    "\n",
    "            if check_winner(board, current_player):\n",
    "                print_board(board)\n",
    "                print(f\"Игрок {current_player} победил!\")\n",
    "                break\n",
    "            elif is_board_full(board):\n",
    "                print_board(board)\n",
    "                print(\"Ничья!\")\n",
    "                break\n",
    "\n",
    "            current_player = \"O\" if current_player == \"X\" else \"X\"\n",
    "        else:\n",
    "            print(\"Некорректный ход. Введите значения от 0 до 2, и ячейка не должна быть занята.\")\n",
    "\n",
    "if __name__ == \"__main__\":\n",
    "    tic_tac_toe()"
   ]
  },
  {
   "cell_type": "code",
   "execution_count": null,
   "id": "a57fddb1",
   "metadata": {},
   "outputs": [],
   "source": []
  },
  {
   "cell_type": "code",
   "execution_count": null,
   "id": "7696a75f",
   "metadata": {},
   "outputs": [],
   "source": []
  }
 ],
 "metadata": {
  "kernelspec": {
   "display_name": "Python 3 (ipykernel)",
   "language": "python",
   "name": "python3"
  },
  "language_info": {
   "codemirror_mode": {
    "name": "ipython",
    "version": 3
   },
   "file_extension": ".py",
   "mimetype": "text/x-python",
   "name": "python",
   "nbconvert_exporter": "python",
   "pygments_lexer": "ipython3",
   "version": "3.11.5"
  }
 },
 "nbformat": 4,
 "nbformat_minor": 5
}
